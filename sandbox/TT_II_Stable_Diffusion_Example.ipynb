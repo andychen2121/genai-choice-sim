{
  "nbformat": 4,
  "nbformat_minor": 0,
  "metadata": {
    "colab": {
      "private_outputs": true,
      "provenance": []
    },
    "kernelspec": {
      "name": "python3",
      "display_name": "Python 3"
    },
    "language_info": {
      "name": "python"
    },
    "accelerator": "GPU",
    "gpuClass": "standard"
  },
  "cells": [
    {
      "cell_type": "code",
      "source": [
        "%pip install --quiet --upgrade diffusers transformers accelerate mediapy peft openai"
      ],
      "metadata": {
        "id": "ufD_d64nr08H"
      },
      "execution_count": null,
      "outputs": []
    },
    {
      "cell_type": "code",
      "source": [
        "import mediapy as media\n",
        "import random\n",
        "import sys\n",
        "import torch\n",
        "\n",
        "from diffusers import DiffusionPipeline, TCDScheduler\n",
        "from huggingface_hub import hf_hub_download\n",
        "num_inference_steps = 12\n",
        "\n",
        "base_model_id = \"stabilityai/stable-diffusion-xl-base-1.0\"\n",
        "repo_name = \"ByteDance/Hyper-SD\"\n",
        "plural = \"s\" if num_inference_steps > 1 else \"\"\n",
        "ckpt_name = f\"Hyper-SDXL-{num_inference_steps}step{plural}-CFG-lora.safetensors\"\n",
        "device = \"cuda\"\n",
        "\n",
        "pipe = DiffusionPipeline.from_pretrained(base_model_id, torch_dtype=torch.float16, variant=\"fp16\").to(device)\n",
        "pipe.load_lora_weights(hf_hub_download(repo_name, ckpt_name))\n",
        "pipe.fuse_lora()\n",
        "pipe.scheduler = TCDScheduler.from_config(pipe.scheduler.config)"
      ],
      "metadata": {
        "id": "bG2hkmSEvByV"
      },
      "execution_count": null,
      "outputs": []
    },
    {
      "cell_type": "code",
      "source": [
        "\n",
        "# Generate the Prompt for the Scene\n",
        "initial_description =  \"\"\"\n",
        "Under a moonless sky, Jonathan Harker, a newly qualified English solicitor, arrives at the ancient, towering castle of Count Dracula in the remote Carpathian Mountains. The chill night air is heavy with mist as massive wooden doors swing open. Count Dracula, a tall, gaunt figure with piercing eyes and a sly smile, greets him warmly, yet something unsettling lingers in the air.\n",
        "\"\"\""
      ],
      "metadata": {
        "id": "bPBOf3vnQR3u"
      },
      "execution_count": null,
      "outputs": []
    },
    {
      "cell_type": "code",
      "source": [
        "seed = random.randint(0, sys.maxsize)\n",
        "guidance_scale = 5.0\n",
        "eta = 0.5\n",
        "\n",
        "images = pipe(\n",
        "    prompt = initial_description,\n",
        "    num_inference_steps = num_inference_steps,\n",
        "    guidance_scale = guidance_scale,\n",
        "    eta = eta,\n",
        "    generator = torch.Generator(device).manual_seed(seed),\n",
        "    ).images\n",
        "\n",
        "print(f\"Prompt:\\t{initial_description}\\nSeed:\\t{seed}\")\n",
        "media.show_images(images)\n",
        "images[0].save(\"output.jpg\")"
      ],
      "metadata": {
        "id": "L4MF8SjyQqtu"
      },
      "execution_count": null,
      "outputs": []
    },
    {
      "cell_type": "code",
      "source": [
        "import requests\n",
        "import torch\n",
        "from PIL import Image\n",
        "from io import BytesIO\n",
        "\n",
        "from diffusers import StableDiffusionImg2ImgPipeline\n",
        "\n",
        "device = \"cuda\"\n",
        "model_id_or_path = \"runwayml/stable-diffusion-v1-5\"\n",
        "pipe = StableDiffusionImg2ImgPipeline.from_pretrained(model_id_or_path, torch_dtype=torch.float16)\n",
        "pipe = pipe.to(device)\n",
        "\n",
        "init_image = Image.open(\"output.jpg\").convert(\"RGB\")\n",
        "init_image = init_image.resize((768, 512))\n",
        "\n",
        "\n",
        "prompt = \"Unable to resist his growing curiosity, Jonathan Harker decides to explore the castle despite the Count's warnings. Suddenly, three enigmatic women with pale skin and captivating eyes appear, moving toward him with a mesmerizing grace.\"\n",
        "\n",
        "images = pipe(\n",
        "    prompt=prompt,\n",
        "    image=init_image,\n",
        "    strength=0.75,\n",
        "    guidance_scale=7.5\n",
        ").images\n",
        "\n",
        "images[1].save(\"output2.jpg\")\n",
        "media.show_images(images[1])"
      ],
      "metadata": {
        "id": "oNgsq6X6iF8c"
      },
      "execution_count": null,
      "outputs": []
    },
    {
      "cell_type": "code",
      "source": [
        "prompt = \"Just as one of the women reaches out to touch him, a sudden gust of icy wind extinguishes the nearby candles, plunging the corridor into darkness. Jonathan's heart races as he feels an oppressive presence behind him. The candles flare back to life, revealing Count Dracula standing between him and the women, his eyes blazing with a stern warning. \"\n",
        "init_image = Image.open(\"output.jpg\").convert(\"RGB\")\n",
        "\n",
        "images = pipe(\n",
        "    prompt=prompt,\n",
        "    image=init_image,\n",
        "    strength=0.75,\n",
        "    guidance_scale=7.5\n",
        ").images\n",
        "\n",
        "images[0].save(\"output3.jpg\")\n",
        "media.show_images(images[2])"
      ],
      "metadata": {
        "id": "NKzNua35k16J"
      },
      "execution_count": null,
      "outputs": []
    }
  ]
}