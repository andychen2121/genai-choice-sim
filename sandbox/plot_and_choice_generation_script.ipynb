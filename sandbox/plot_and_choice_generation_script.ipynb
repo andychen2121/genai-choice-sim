{
  "cells": [
    {
      "cell_type": "markdown",
      "id": "5ac6b5d5-fce7-4fcb-b1a8-c490ea5c5325",
      "metadata": {
        "id": "5ac6b5d5-fce7-4fcb-b1a8-c490ea5c5325"
      },
      "source": [
        "# Generative AI Plot / Choice Generation Demo + Script"
      ]
    },
    {
      "cell_type": "code",
      "source": [
        "!pip install together==1.2.0\n",
        "!pip install wikipedia-api"
      ],
      "metadata": {
        "colab": {
          "base_uri": "https://localhost:8080/"
        },
        "id": "meO_FO8xkgSs",
        "outputId": "336aff28-f86a-4445-8161-6edf9cb4b100"
      },
      "id": "meO_FO8xkgSs",
      "execution_count": 27,
      "outputs": [
        {
          "output_type": "stream",
          "name": "stdout",
          "text": [
            "Requirement already satisfied: together==1.2.0 in /usr/local/lib/python3.10/dist-packages (1.2.0)\n",
            "Requirement already satisfied: aiohttp<4.0.0,>=3.9.3 in /usr/local/lib/python3.10/dist-packages (from together==1.2.0) (3.11.2)\n",
            "Requirement already satisfied: click<9.0.0,>=8.1.7 in /usr/local/lib/python3.10/dist-packages (from together==1.2.0) (8.1.7)\n",
            "Requirement already satisfied: eval-type-backport<0.3.0,>=0.1.3 in /usr/local/lib/python3.10/dist-packages (from together==1.2.0) (0.2.0)\n",
            "Requirement already satisfied: filelock<4.0.0,>=3.13.1 in /usr/local/lib/python3.10/dist-packages (from together==1.2.0) (3.16.1)\n",
            "Requirement already satisfied: numpy>=1.23.5 in /usr/local/lib/python3.10/dist-packages (from together==1.2.0) (1.26.4)\n",
            "Requirement already satisfied: pillow<11.0.0,>=10.3.0 in /usr/local/lib/python3.10/dist-packages (from together==1.2.0) (10.4.0)\n",
            "Requirement already satisfied: pyarrow>=10.0.1 in /usr/local/lib/python3.10/dist-packages (from together==1.2.0) (17.0.0)\n",
            "Requirement already satisfied: pydantic<3.0.0,>=2.6.3 in /usr/local/lib/python3.10/dist-packages (from together==1.2.0) (2.9.2)\n",
            "Requirement already satisfied: requests<3.0.0,>=2.31.0 in /usr/local/lib/python3.10/dist-packages (from together==1.2.0) (2.32.3)\n",
            "Requirement already satisfied: tabulate<0.10.0,>=0.9.0 in /usr/local/lib/python3.10/dist-packages (from together==1.2.0) (0.9.0)\n",
            "Requirement already satisfied: tqdm<5.0.0,>=4.66.2 in /usr/local/lib/python3.10/dist-packages (from together==1.2.0) (4.66.6)\n",
            "Requirement already satisfied: typer<0.13,>=0.9 in /usr/local/lib/python3.10/dist-packages (from together==1.2.0) (0.12.5)\n",
            "Requirement already satisfied: aiohappyeyeballs>=2.3.0 in /usr/local/lib/python3.10/dist-packages (from aiohttp<4.0.0,>=3.9.3->together==1.2.0) (2.4.3)\n",
            "Requirement already satisfied: aiosignal>=1.1.2 in /usr/local/lib/python3.10/dist-packages (from aiohttp<4.0.0,>=3.9.3->together==1.2.0) (1.3.1)\n",
            "Requirement already satisfied: attrs>=17.3.0 in /usr/local/lib/python3.10/dist-packages (from aiohttp<4.0.0,>=3.9.3->together==1.2.0) (24.2.0)\n",
            "Requirement already satisfied: frozenlist>=1.1.1 in /usr/local/lib/python3.10/dist-packages (from aiohttp<4.0.0,>=3.9.3->together==1.2.0) (1.5.0)\n",
            "Requirement already satisfied: multidict<7.0,>=4.5 in /usr/local/lib/python3.10/dist-packages (from aiohttp<4.0.0,>=3.9.3->together==1.2.0) (6.1.0)\n",
            "Requirement already satisfied: propcache>=0.2.0 in /usr/local/lib/python3.10/dist-packages (from aiohttp<4.0.0,>=3.9.3->together==1.2.0) (0.2.0)\n",
            "Requirement already satisfied: yarl<2.0,>=1.17.0 in /usr/local/lib/python3.10/dist-packages (from aiohttp<4.0.0,>=3.9.3->together==1.2.0) (1.17.2)\n",
            "Requirement already satisfied: async-timeout<6.0,>=4.0 in /usr/local/lib/python3.10/dist-packages (from aiohttp<4.0.0,>=3.9.3->together==1.2.0) (4.0.3)\n",
            "Requirement already satisfied: annotated-types>=0.6.0 in /usr/local/lib/python3.10/dist-packages (from pydantic<3.0.0,>=2.6.3->together==1.2.0) (0.7.0)\n",
            "Requirement already satisfied: pydantic-core==2.23.4 in /usr/local/lib/python3.10/dist-packages (from pydantic<3.0.0,>=2.6.3->together==1.2.0) (2.23.4)\n",
            "Requirement already satisfied: typing-extensions>=4.6.1 in /usr/local/lib/python3.10/dist-packages (from pydantic<3.0.0,>=2.6.3->together==1.2.0) (4.12.2)\n",
            "Requirement already satisfied: charset-normalizer<4,>=2 in /usr/local/lib/python3.10/dist-packages (from requests<3.0.0,>=2.31.0->together==1.2.0) (3.4.0)\n",
            "Requirement already satisfied: idna<4,>=2.5 in /usr/local/lib/python3.10/dist-packages (from requests<3.0.0,>=2.31.0->together==1.2.0) (3.10)\n",
            "Requirement already satisfied: urllib3<3,>=1.21.1 in /usr/local/lib/python3.10/dist-packages (from requests<3.0.0,>=2.31.0->together==1.2.0) (2.2.3)\n",
            "Requirement already satisfied: certifi>=2017.4.17 in /usr/local/lib/python3.10/dist-packages (from requests<3.0.0,>=2.31.0->together==1.2.0) (2024.8.30)\n",
            "Requirement already satisfied: shellingham>=1.3.0 in /usr/local/lib/python3.10/dist-packages (from typer<0.13,>=0.9->together==1.2.0) (1.5.4)\n",
            "Requirement already satisfied: rich>=10.11.0 in /usr/local/lib/python3.10/dist-packages (from typer<0.13,>=0.9->together==1.2.0) (13.9.4)\n",
            "Requirement already satisfied: markdown-it-py>=2.2.0 in /usr/local/lib/python3.10/dist-packages (from rich>=10.11.0->typer<0.13,>=0.9->together==1.2.0) (3.0.0)\n",
            "Requirement already satisfied: pygments<3.0.0,>=2.13.0 in /usr/local/lib/python3.10/dist-packages (from rich>=10.11.0->typer<0.13,>=0.9->together==1.2.0) (2.18.0)\n",
            "Requirement already satisfied: mdurl~=0.1 in /usr/local/lib/python3.10/dist-packages (from markdown-it-py>=2.2.0->rich>=10.11.0->typer<0.13,>=0.9->together==1.2.0) (0.1.2)\n",
            "Requirement already satisfied: wikipedia-api in /usr/local/lib/python3.10/dist-packages (0.7.1)\n",
            "Requirement already satisfied: requests in /usr/local/lib/python3.10/dist-packages (from wikipedia-api) (2.32.3)\n",
            "Requirement already satisfied: charset-normalizer<4,>=2 in /usr/local/lib/python3.10/dist-packages (from requests->wikipedia-api) (3.4.0)\n",
            "Requirement already satisfied: idna<4,>=2.5 in /usr/local/lib/python3.10/dist-packages (from requests->wikipedia-api) (3.10)\n",
            "Requirement already satisfied: urllib3<3,>=1.21.1 in /usr/local/lib/python3.10/dist-packages (from requests->wikipedia-api) (2.2.3)\n",
            "Requirement already satisfied: certifi>=2017.4.17 in /usr/local/lib/python3.10/dist-packages (from requests->wikipedia-api) (2024.8.30)\n",
            "Collecting llama-stack\n",
            "  Downloading llama_stack-0.0.55-py3-none-any.whl.metadata (10 kB)\n",
            "Collecting blobfile (from llama-stack)\n",
            "  Downloading blobfile-3.0.0-py3-none-any.whl.metadata (15 kB)\n",
            "Collecting fire (from llama-stack)\n",
            "  Downloading fire-0.7.0.tar.gz (87 kB)\n",
            "\u001b[2K     \u001b[90m━━━━━━━━━━━━━━━━━━━━━━━━━━━━━━━━━━━━━━━━\u001b[0m \u001b[32m87.2/87.2 kB\u001b[0m \u001b[31m6.2 MB/s\u001b[0m eta \u001b[36m0:00:00\u001b[0m\n",
            "\u001b[?25h  Preparing metadata (setup.py) ... \u001b[?25l\u001b[?25hdone\n",
            "Requirement already satisfied: httpx in /usr/local/lib/python3.10/dist-packages (from llama-stack) (0.27.2)\n",
            "Requirement already satisfied: huggingface-hub in /usr/local/lib/python3.10/dist-packages (from llama-stack) (0.26.2)\n",
            "Collecting llama-models>=0.0.55 (from llama-stack)\n",
            "  Downloading llama_models-0.0.55-py3-none-any.whl.metadata (8.2 kB)\n",
            "Collecting llama-stack-client>=0.0.55 (from llama-stack)\n",
            "  Downloading llama_stack_client-0.0.55-py3-none-any.whl.metadata (15 kB)\n",
            "Requirement already satisfied: prompt-toolkit in /usr/local/lib/python3.10/dist-packages (from llama-stack) (3.0.48)\n",
            "Collecting python-dotenv (from llama-stack)\n",
            "  Downloading python_dotenv-1.0.1-py3-none-any.whl.metadata (23 kB)\n",
            "Requirement already satisfied: pydantic>=2 in /usr/local/lib/python3.10/dist-packages (from llama-stack) (2.9.2)\n",
            "Requirement already satisfied: requests in /usr/local/lib/python3.10/dist-packages (from llama-stack) (2.32.3)\n",
            "Requirement already satisfied: rich in /usr/local/lib/python3.10/dist-packages (from llama-stack) (13.9.4)\n",
            "Requirement already satisfied: setuptools in /usr/local/lib/python3.10/dist-packages (from llama-stack) (75.1.0)\n",
            "Requirement already satisfied: termcolor in /usr/local/lib/python3.10/dist-packages (from llama-stack) (2.5.0)\n",
            "Requirement already satisfied: PyYAML in /usr/local/lib/python3.10/dist-packages (from llama-models>=0.0.55->llama-stack) (6.0.2)\n",
            "Requirement already satisfied: jinja2 in /usr/local/lib/python3.10/dist-packages (from llama-models>=0.0.55->llama-stack) (3.1.4)\n",
            "Collecting tiktoken (from llama-models>=0.0.55->llama-stack)\n",
            "  Downloading tiktoken-0.8.0-cp310-cp310-manylinux_2_17_x86_64.manylinux2014_x86_64.whl.metadata (6.6 kB)\n",
            "Requirement already satisfied: Pillow in /usr/local/lib/python3.10/dist-packages (from llama-models>=0.0.55->llama-stack) (10.4.0)\n",
            "Requirement already satisfied: anyio<5,>=3.5.0 in /usr/local/lib/python3.10/dist-packages (from llama-stack-client>=0.0.55->llama-stack) (3.7.1)\n",
            "Requirement already satisfied: click in /usr/local/lib/python3.10/dist-packages (from llama-stack-client>=0.0.55->llama-stack) (8.1.7)\n",
            "Requirement already satisfied: distro<2,>=1.7.0 in /usr/local/lib/python3.10/dist-packages (from llama-stack-client>=0.0.55->llama-stack) (1.9.0)\n",
            "Requirement already satisfied: pandas in /usr/local/lib/python3.10/dist-packages (from llama-stack-client>=0.0.55->llama-stack) (2.2.2)\n",
            "Collecting pyaml (from llama-stack-client>=0.0.55->llama-stack)\n",
            "  Downloading pyaml-24.9.0-py3-none-any.whl.metadata (11 kB)\n",
            "Requirement already satisfied: sniffio in /usr/local/lib/python3.10/dist-packages (from llama-stack-client>=0.0.55->llama-stack) (1.3.1)\n",
            "Requirement already satisfied: tqdm in /usr/local/lib/python3.10/dist-packages (from llama-stack-client>=0.0.55->llama-stack) (4.66.6)\n",
            "Requirement already satisfied: typing-extensions<5,>=4.7 in /usr/local/lib/python3.10/dist-packages (from llama-stack-client>=0.0.55->llama-stack) (4.12.2)\n",
            "Requirement already satisfied: certifi in /usr/local/lib/python3.10/dist-packages (from httpx->llama-stack) (2024.8.30)\n",
            "Requirement already satisfied: httpcore==1.* in /usr/local/lib/python3.10/dist-packages (from httpx->llama-stack) (1.0.7)\n",
            "Requirement already satisfied: idna in /usr/local/lib/python3.10/dist-packages (from httpx->llama-stack) (3.10)\n",
            "Requirement already satisfied: h11<0.15,>=0.13 in /usr/local/lib/python3.10/dist-packages (from httpcore==1.*->httpx->llama-stack) (0.14.0)\n",
            "Requirement already satisfied: annotated-types>=0.6.0 in /usr/local/lib/python3.10/dist-packages (from pydantic>=2->llama-stack) (0.7.0)\n",
            "Requirement already satisfied: pydantic-core==2.23.4 in /usr/local/lib/python3.10/dist-packages (from pydantic>=2->llama-stack) (2.23.4)\n",
            "Collecting pycryptodomex>=3.8 (from blobfile->llama-stack)\n",
            "  Downloading pycryptodomex-3.21.0-cp36-abi3-manylinux_2_17_x86_64.manylinux2014_x86_64.whl.metadata (3.4 kB)\n",
            "Requirement already satisfied: urllib3<3,>=1.25.3 in /usr/local/lib/python3.10/dist-packages (from blobfile->llama-stack) (2.2.3)\n",
            "Requirement already satisfied: lxml>=4.9 in /usr/local/lib/python3.10/dist-packages (from blobfile->llama-stack) (5.3.0)\n",
            "Requirement already satisfied: filelock>=3.0 in /usr/local/lib/python3.10/dist-packages (from blobfile->llama-stack) (3.16.1)\n",
            "Requirement already satisfied: fsspec>=2023.5.0 in /usr/local/lib/python3.10/dist-packages (from huggingface-hub->llama-stack) (2024.10.0)\n",
            "Requirement already satisfied: packaging>=20.9 in /usr/local/lib/python3.10/dist-packages (from huggingface-hub->llama-stack) (24.2)\n",
            "Requirement already satisfied: wcwidth in /usr/local/lib/python3.10/dist-packages (from prompt-toolkit->llama-stack) (0.2.13)\n",
            "Requirement already satisfied: charset-normalizer<4,>=2 in /usr/local/lib/python3.10/dist-packages (from requests->llama-stack) (3.4.0)\n",
            "Requirement already satisfied: markdown-it-py>=2.2.0 in /usr/local/lib/python3.10/dist-packages (from rich->llama-stack) (3.0.0)\n",
            "Requirement already satisfied: pygments<3.0.0,>=2.13.0 in /usr/local/lib/python3.10/dist-packages (from rich->llama-stack) (2.18.0)\n",
            "Requirement already satisfied: exceptiongroup in /usr/local/lib/python3.10/dist-packages (from anyio<5,>=3.5.0->llama-stack-client>=0.0.55->llama-stack) (1.2.2)\n",
            "Requirement already satisfied: mdurl~=0.1 in /usr/local/lib/python3.10/dist-packages (from markdown-it-py>=2.2.0->rich->llama-stack) (0.1.2)\n",
            "Requirement already satisfied: MarkupSafe>=2.0 in /usr/local/lib/python3.10/dist-packages (from jinja2->llama-models>=0.0.55->llama-stack) (3.0.2)\n",
            "Requirement already satisfied: numpy>=1.22.4 in /usr/local/lib/python3.10/dist-packages (from pandas->llama-stack-client>=0.0.55->llama-stack) (1.26.4)\n",
            "Requirement already satisfied: python-dateutil>=2.8.2 in /usr/local/lib/python3.10/dist-packages (from pandas->llama-stack-client>=0.0.55->llama-stack) (2.8.2)\n",
            "Requirement already satisfied: pytz>=2020.1 in /usr/local/lib/python3.10/dist-packages (from pandas->llama-stack-client>=0.0.55->llama-stack) (2024.2)\n",
            "Requirement already satisfied: tzdata>=2022.7 in /usr/local/lib/python3.10/dist-packages (from pandas->llama-stack-client>=0.0.55->llama-stack) (2024.2)\n",
            "Requirement already satisfied: regex>=2022.1.18 in /usr/local/lib/python3.10/dist-packages (from tiktoken->llama-models>=0.0.55->llama-stack) (2024.9.11)\n",
            "Requirement already satisfied: six>=1.5 in /usr/local/lib/python3.10/dist-packages (from python-dateutil>=2.8.2->pandas->llama-stack-client>=0.0.55->llama-stack) (1.16.0)\n",
            "Downloading llama_stack-0.0.55-py3-none-any.whl (370 kB)\n",
            "\u001b[2K   \u001b[90m━━━━━━━━━━━━━━━━━━━━━━━━━━━━━━━━━━━━━━━━\u001b[0m \u001b[32m370.3/370.3 kB\u001b[0m \u001b[31m25.1 MB/s\u001b[0m eta \u001b[36m0:00:00\u001b[0m\n",
            "\u001b[?25hDownloading llama_models-0.0.55-py3-none-any.whl (1.6 MB)\n",
            "\u001b[2K   \u001b[90m━━━━━━━━━━━━━━━━━━━━━━━━━━━━━━━━━━━━━━━━\u001b[0m \u001b[32m1.6/1.6 MB\u001b[0m \u001b[31m59.0 MB/s\u001b[0m eta \u001b[36m0:00:00\u001b[0m\n",
            "\u001b[?25hDownloading llama_stack_client-0.0.55-py3-none-any.whl (285 kB)\n",
            "\u001b[2K   \u001b[90m━━━━━━━━━━━━━━━━━━━━━━━━━━━━━━━━━━━━━━━━\u001b[0m \u001b[32m285.6/285.6 kB\u001b[0m \u001b[31m20.9 MB/s\u001b[0m eta \u001b[36m0:00:00\u001b[0m\n",
            "\u001b[?25hDownloading blobfile-3.0.0-py3-none-any.whl (75 kB)\n",
            "\u001b[2K   \u001b[90m━━━━━━━━━━━━━━━━━━━━━━━━━━━━━━━━━━━━━━━━\u001b[0m \u001b[32m75.4/75.4 kB\u001b[0m \u001b[31m6.3 MB/s\u001b[0m eta \u001b[36m0:00:00\u001b[0m\n",
            "\u001b[?25hDownloading python_dotenv-1.0.1-py3-none-any.whl (19 kB)\n",
            "Downloading pycryptodomex-3.21.0-cp36-abi3-manylinux_2_17_x86_64.manylinux2014_x86_64.whl (2.3 MB)\n",
            "\u001b[2K   \u001b[90m━━━━━━━━━━━━━━━━━━━━━━━━━━━━━━━━━━━━━━━━\u001b[0m \u001b[32m2.3/2.3 MB\u001b[0m \u001b[31m58.7 MB/s\u001b[0m eta \u001b[36m0:00:00\u001b[0m\n",
            "\u001b[?25hDownloading pyaml-24.9.0-py3-none-any.whl (24 kB)\n",
            "Downloading tiktoken-0.8.0-cp310-cp310-manylinux_2_17_x86_64.manylinux2014_x86_64.whl (1.2 MB)\n",
            "\u001b[2K   \u001b[90m━━━━━━━━━━━━━━━━━━━━━━━━━━━━━━━━━━━━━━━━\u001b[0m \u001b[32m1.2/1.2 MB\u001b[0m \u001b[31m55.4 MB/s\u001b[0m eta \u001b[36m0:00:00\u001b[0m\n",
            "\u001b[?25hBuilding wheels for collected packages: fire\n",
            "  Building wheel for fire (setup.py) ... \u001b[?25l\u001b[?25hdone\n",
            "  Created wheel for fire: filename=fire-0.7.0-py3-none-any.whl size=114249 sha256=f425365d20b52909a7d6d38ae4c5875aae0256a8b207c2dc65dfc17d946f7835\n",
            "  Stored in directory: /root/.cache/pip/wheels/19/39/2f/2d3cadc408a8804103f1c34ddd4b9f6a93497b11fa96fe738e\n",
            "Successfully built fire\n",
            "Installing collected packages: python-dotenv, pycryptodomex, pyaml, fire, tiktoken, blobfile, llama-stack-client, llama-models, llama-stack\n",
            "Successfully installed blobfile-3.0.0 fire-0.7.0 llama-models-0.0.55 llama-stack-0.0.55 llama-stack-client-0.0.55 pyaml-24.9.0 pycryptodomex-3.21.0 python-dotenv-1.0.1 tiktoken-0.8.0\n"
          ]
        }
      ]
    },
    {
      "cell_type": "code",
      "source": [
        "import wikipediaapi\n",
        "import json"
      ],
      "metadata": {
        "id": "up5fmeh6mbKG"
      },
      "id": "up5fmeh6mbKG",
      "execution_count": 10,
      "outputs": []
    },
    {
      "cell_type": "markdown",
      "id": "ac19c917-fe0b-4140-abc4-33d6b3972aaa",
      "metadata": {
        "id": "ac19c917-fe0b-4140-abc4-33d6b3972aaa"
      },
      "source": [
        "## Proof Of Concept"
      ]
    },
    {
      "cell_type": "code",
      "source": [
        "wiki_wiki = wikipediaapi.Wikipedia('MyProjectName (merlin@example.com)', 'en')\n",
        "\n",
        "\n",
        "def get_plot(title):\n",
        "    \"\"\"\n",
        "    Retrieves the plot summary of the given title from Wikipedia.\n",
        "    \"\"\"\n",
        "    page = wiki_wiki.page(title)\n",
        "    if not page.exists():\n",
        "        print(f\"Page '{title}' does not exist.\")\n",
        "        return None\n",
        "\n",
        "    possible_sections = ['Plot', 'Synopsis', 'Summary', 'Plot summary', 'Story']\n",
        "    plot_section = None\n",
        "    for section_title in possible_sections:\n",
        "        plot_section = page.section_by_title(section_title)\n",
        "        if plot_section:\n",
        "            break\n",
        "    if plot_section:\n",
        "        return plot_section.text\n",
        "    else:\n",
        "        print(f\"No plot section found for '{title}'.\")\n",
        "        return None"
      ],
      "metadata": {
        "id": "wp4k_inEmSuJ"
      },
      "id": "wp4k_inEmSuJ",
      "execution_count": 13,
      "outputs": []
    },
    {
      "cell_type": "code",
      "execution_count": 22,
      "id": "93056e48-cb80-46a8-8990-bc5b4ae9506b",
      "metadata": {
        "height": 149,
        "id": "93056e48-cb80-46a8-8990-bc5b4ae9506b"
      },
      "outputs": [],
      "source": [
        "IP = 'Dracula'\n",
        "\n",
        "system_prompt = f\"\"\"\n",
        "Your job is to adapt the story of {IP} and create a branching storyline that incorporates similar elements while introducing new twists and engaging paths for players.\n",
        "Instructions:\n",
        "- Only generate in plain text without formatting.\n",
        "- Use simple, clear language that is easy to understand and avoids being overly descriptive.\n",
        "- Ensure each branching storyline offers meaningful player choices and consequences.\n",
        "- Stay concise, limiting each storyline description to 3-5 sentences.\n",
        "\"\"\"\n",
        "\n",
        "plot_prompt = f\"\"\"\n",
        "Generate a creative, original adaptation of {IP}'s plot, introducing similar themes and elements while creating 4 new, engaging branching storylines for players.\n",
        "\n",
        "Output content in the form:\n",
        "Plot Summary: <PLOT SUMMARY>\n",
        "Branching Storylines: <BRANCHING STORYLINE DESCRIPTIONS>\n",
        "\n",
        "{IP} Plot Summary: {get_plot(IP)}\"\"\"\n"
      ]
    },
    {
      "cell_type": "code",
      "execution_count": 23,
      "id": "330f3e78-9a20-45b1-afa5-a65289046a55",
      "metadata": {
        "height": 183,
        "colab": {
          "base_uri": "https://localhost:8080/",
          "height": 87
        },
        "id": "330f3e78-9a20-45b1-afa5-a65289046a55",
        "outputId": "16a83a80-a0c0-4908-cee4-0a4aa682a76d"
      },
      "outputs": [
        {
          "output_type": "execute_result",
          "data": {
            "text/plain": [
              "'\\nGenerate a creative, original adaptation of Dracula\\'s plot, introducing similar themes and elements while creating 4 new, engaging branching storylines for players.\\n\\nOutput content in the form:\\nPlot Summary: <PLOT SUMMARY>\\nBranching Storylines: <BRANCHING STORYLINE DESCRIPTIONS>\\n\\nDracula Plot Summary: Jonathan Harker, a newly qualified English solicitor, visits Count Dracula at his castle in the Carpathian Mountains to help the Count purchase a house near London. Ignoring the Count\\'s warning, Harker wanders the castle at night and encounters three vampire women; Dracula rescues Harker, and gives the women a small child bound inside a bag. Harker awakens in bed; soon after, Dracula leaves the castle, abandoning him to the women. Harker escapes and ends up delirious in a Budapest hospital. Dracula takes a ship called the Demeter for England with boxes of earth from his castle. The captain\\'s log narrates the crew\\'s disappearance until he alone remains, bound to the helm to maintain course. An animal resembling a large dog is seen leaping ashore when the ship runs aground at Whitby.\\nLucy Westenra\\'s letter to her best friend, Harker\\'s fiancée Mina Murray,  describes her marriage proposals from Dr. John Seward, Quincey Morris, and Arthur Holmwood. Lucy accepts Holmwood\\'s, but all remain friends. Mina joins Lucy on holiday in Whitby. Lucy begins sleepwalking. After his ship lands there, Dracula stalks Lucy. Mina receives a letter about her missing fiancé\\'s illness, and goes to Budapest to nurse him. Lucy becomes very ill. Seward\\'s old teacher, Professor Abraham Van Helsing, determines the nature of Lucy\\'s condition, but refuses to disclose it. He diagnoses her with acute blood-loss. Van Helsing places garlic flowers around her room and makes her a necklace of them. Lucy\\'s mother removes the garlic flowers, not knowing they repel vampires. While Seward and Van Helsing are absent, Lucy and her mother are terrified by a wolf and Mrs. Westenra dies of a heart attack; Lucy dies shortly thereafter. After her burial, newspapers report children being stalked in the night by a \"bloofer lady\" (beautiful lady), and Van Helsing deduces it is Lucy. The four go to her tomb and see that she is a vampire. They stake her heart, behead her, and fill her mouth with garlic. Jonathan Harker and his now-wife Mina have returned, and they join the campaign against Dracula.\\nEveryone stays at Dr. Seward\\'s asylum as the men begin to hunt Dracula. Van Helsing finally reveals that vampires can only rest on earth from their homeland. Dracula communicates with Seward\\'s patient, Renfield, an insane man who eats vermin to absorb their life force. After Dracula learns of the group\\'s plot against him, he uses Renfield to enter the asylum. He secretly attacks Mina three times, drinking her blood each time and forcing Mina to drink his blood on the final visit. She is cursed to become a vampire after her death unless Dracula is killed. As the men find Dracula\\'s properties, they discover many earth boxes within. The vampire hunters open each of the boxes and seal wafers of sacramental bread inside them, rendering them useless to Dracula. They attempt to trap the Count in his Piccadilly house, but he escapes. They learn that Dracula is fleeing to his castle in Transylvania with his last box. Mina has a faint psychic connection to Dracula, which Van Helsing exploits via hypnosis to track Dracula\\'s movements. Guided by Mina, they pursue him.\\nIn Galatz, Romania, the hunters split up. Van Helsing and Mina go to Dracula\\'s castle, where the professor destroys the vampire women. Jonathan Harker and Arthur Holmwood follow Dracula\\'s boat on the river, while Quincey Morris and John Seward parallel them on land. After Dracula\\'s box is finally loaded onto a wagon by Romani men, the hunters converge and attack it. After routing the Romani, Harker decapitates Dracula as Quincey stabs him in the heart. Dracula crumbles to dust, freeing Mina from her vampiric curse. Quincey is mortally wounded in the fight against the Romani. He dies from his wounds, at peace with the knowledge that Mina is saved. A note by Jonathan Harker seven years later states that the Harkers have a son, named Quincey.'"
            ],
            "application/vnd.google.colaboratory.intrinsic+json": {
              "type": "string"
            }
          },
          "metadata": {},
          "execution_count": 23
        }
      ],
      "source": [
        "plot_prompt"
      ]
    },
    {
      "cell_type": "code",
      "execution_count": 24,
      "id": "7f928bb3-c6e4-4891-a154-3b3f225e8d21",
      "metadata": {
        "height": 217,
        "id": "7f928bb3-c6e4-4891-a154-3b3f225e8d21"
      },
      "outputs": [],
      "source": [
        "from together import Together\n",
        "\n",
        "client = Together(api_key='0256f61cf32560dba2fb9c36573f46b473dbd1f2f0d95a731eeaf01b458e7bed')\n",
        "\n",
        "output = client.chat.completions.create(\n",
        "    model=\"meta-llama/Llama-3-70b-chat-hf\",\n",
        "    messages=[\n",
        "        {\"role\": \"system\", \"content\": system_prompt},\n",
        "        {\"role\": \"user\", \"content\": plot_prompt}\n",
        "    ],\n",
        ")"
      ]
    },
    {
      "cell_type": "code",
      "execution_count": 25,
      "id": "22d161d6-cb78-4c3d-b858-5659d5d16761",
      "metadata": {
        "height": 47,
        "colab": {
          "base_uri": "https://localhost:8080/"
        },
        "id": "22d161d6-cb78-4c3d-b858-5659d5d16761",
        "outputId": "058e4031-d70b-4a31-983f-e5e0f8560cb6"
      },
      "outputs": [
        {
          "output_type": "stream",
          "name": "stdout",
          "text": [
            "Here is a creative, original adaptation of Dracula's plot with 4 new branching storylines for players:\n",
            "\n",
            "Plot Summary: In the small town of Ravenswood, a mysterious stranger named Count Draconis arrives, seeking to purchase an old mansion on the outskirts of town. Local solicitor, Emily Welles, is tasked with facilitating the sale, but soon discovers that the Count's true intentions are far more sinister. As the town falls under the Count's dark influence, Emily must join forces with a group of allies to uncover the truth behind the Count's powers and stop him before it's too late.\n",
            "\n",
            "Branching Storylines:\n",
            "\n",
            "**Path 1: The Mysterious Heir**\n",
            "Emily discovers that she is the last living heir of the original owner of the mansion, and that the Count's true intention is to claim the estate's dark legacy for himself. Players must navigate the complex web of family secrets and ancient curses to uncover the truth about their own past and the source of the Count's power.\n",
            "\n",
            "**Path 2: The Vampire's Prey**\n",
            "As the Count's influence grows, Emily's friends and loved ones begin to fall under his spell. Players must make difficult choices to save those they care about, or risk losing them to the Count's eternal darkness. The fate of Ravenswood hangs in the balance, as Emily must confront the harsh reality of the Count's true nature.\n",
            "\n",
            "**Path 3: The Secret Society**\n",
            "Emily uncovers a hidden society of vampire hunters who have been tracking the Count for centuries. Players must decide whether to join forces with the society, or forge their own path to defeat the Count. The society's true motives and methods will be revealed, forcing Emily to confront the moral implications of her choices.\n",
            "\n",
            "**Path 4: The Dark Alliance**\n",
            "As Emily delves deeper into the mystery, she discovers that the Count is not the only supernatural force at play in Ravenswood. A rival faction of creatures, with their own agenda, offers Emily a dark alliance to take down the Count. Players must weigh the risks and benefits of this alliance, and confront the consequences of making a deal with forces beyond human control.\n"
          ]
        }
      ],
      "source": [
        "plot_output =output.choices[0].message.content\n",
        "print(plot_output)"
      ]
    },
    {
      "cell_type": "code",
      "execution_count": 96,
      "id": "b993a1df-7735-43da-9872-45bb2bdc9fb2",
      "metadata": {
        "height": 132,
        "id": "b993a1df-7735-43da-9872-45bb2bdc9fb2"
      },
      "outputs": [],
      "source": [
        "def generate_continuation(context, previous_scenario=None, previous_choice=None, num_choices=4, choices_left=10):\n",
        "    \"\"\"\n",
        "    Generates a continuation of the story based on the given context and an optional choice.\n",
        "    choices_left details the amount of urgency left, to account for story pacing.\n",
        "    \"\"\"\n",
        "    system_prompt = f\"\"\"\n",
        "    Your job is to tell a continuation of the story based on what previously happened.\n",
        "    You will be given the overall plot synopsis to help guide the story in that direction.\n",
        "    The player has {choices_left} choice(s) left.\n",
        "\n",
        "    Instructions:\n",
        "    - Use simple, clear language that is easy to understand and avoids being overly descriptive.\n",
        "    - Stay in third-person point of view.\n",
        "    - Ensure each branching storyline offers meaningful player choices and consequences.\n",
        "    - Stay concise, limiting each storyline description to 3-5 sentences.\n",
        "    - The player has around 10 choices in total. If they have 5-7 left, ramp up the story, aiming for 3-4 choices left as the climax. Begin to aim for an interesting conclusion at 2-1 choices left.\n",
        "    - All outputs should be in JSON format like so. Do not include anything else:\n",
        "    {{\n",
        "      \"story_continuation\": \"[Your story continuation here]\",\n",
        "      \"choices\": [\n",
        "        {{\n",
        "          \"choice\": 1,\n",
        "          \"action\": \"[First possible action]\"\n",
        "        }},\n",
        "        {{\n",
        "          \"choice\": 2,\n",
        "          \"action\": \"[Second possible action]\"\n",
        "        }}\n",
        "        ...\n",
        "      ]\n",
        "    }}\n",
        "    \"\"\"\n",
        "\n",
        "    if previous_choice:\n",
        "        prompt = f\"\"\"\n",
        "        Write a continuation of the story that progresses the story forward. Include {num_choices} choices for the player to choose from given this generated situation.\n",
        "        All outputs should be in JSON format. Do not include anything else.\n",
        "\n",
        "        The following scenario has just occured:\n",
        "        {previous_scenario}\n",
        "\n",
        "        The player made the following choice:\n",
        "        {previous_choice}\n",
        "\n",
        "        Plot Summary: {context}\n",
        "        \"\"\"\n",
        "    else:\n",
        "        prompt = f\"\"\"\n",
        "        We are at the start of our adventure. Write a continuation of the story that progresses the story forward. Include {num_choices} choices for the player to choose from given this generated situation.\n",
        "        All outputs should be in JSON format.\n",
        "\n",
        "        Plot Summary: {context}\n",
        "        \"\"\"\n",
        "\n",
        "    output = client.chat.completions.create(\n",
        "      model=\"meta-llama/Llama-3-70b-chat-hf\",\n",
        "      messages=[\n",
        "          {\"role\": \"system\", \"content\": system_prompt},\n",
        "          {\"role\": \"user\", \"content\": prompt}\n",
        "      ],\n",
        "    )\n",
        "    return output.choices[0].message.content"
      ]
    },
    {
      "cell_type": "code",
      "source": [
        "# Example:\n",
        "# Generated Plot Summary now becomes context: In the small town of Ravenswood, a mysterious stranger named Count Draconis arrives, seeking to purchase an old mansion on the outskirts of town. Local solicitor, Emily Welles, is tasked with facilitating the sale, but soon discovers that the Count's true intentions are far more sinister. As the town falls under the Count's dark influence, Emily must join forces with a group of allies to uncover the truth behind the Count's powers and stop him before it's too late.\n",
        "# Each path is added to the context (can also put the path name on screen, which I think is cool and engaging): e.g. Emily discovers that she is the last living heir of the original owner of the mansion, and that the Count's true intention is to claim the estate's dark legacy for himself. Players must navigate the complex web of family secrets and ancient curses to uncover the truth about their own past and the source of the Count's power."
      ],
      "metadata": {
        "id": "iVxwIY7KtPpW"
      },
      "id": "iVxwIY7KtPpW",
      "execution_count": 57,
      "outputs": []
    },
    {
      "cell_type": "code",
      "source": [
        "example_context = \"In the small town of Ravenswood, a mysterious stranger named Count Draconis arrives, seeking to purchase an old mansion on the outskirts of town. Local solicitor, Emily Welles, is tasked with facilitating the sale, but soon discovers that the Count's true intentions are far more sinister. As the town falls under the Count's dark influence, Emily must join forces with a group of allies to uncover the truth behind the Count's powers and stop him before it's too late. Emily discovers that she is the last living heir of the original owner of the mansion, and that the Count's true intention is to claim the estate's dark legacy for himself. Players must navigate the complex web of family secrets and ancient curses to uncover the truth about their own past and the source of the Count's power.\"\n",
        "\n",
        "output = generate_continuation(example_context, choices_left=10)\n",
        "output"
      ],
      "metadata": {
        "colab": {
          "base_uri": "https://localhost:8080/",
          "height": 87
        },
        "id": "Gg-ksda4tcMu",
        "outputId": "a40e8060-be49-4a08-ae8b-9390e7c0723d"
      },
      "id": "Gg-ksda4tcMu",
      "execution_count": 58,
      "outputs": [
        {
          "output_type": "execute_result",
          "data": {
            "text/plain": [
              "'{\\n  \"story_continuation\": \"As Emily delves deeper into the mystery, she begins to experience strange and unsettling occurrences. Doors slam shut on their own, and she starts to feel an eerie presence lurking in the shadows. One night, while researching in the town\\'s archives, she stumbles upon an ancient diary belonging to her ancestor, the original owner of the mansion. The diary speaks of a dark family secret and a powerful artifact hidden within the mansion\\'s walls. Suddenly, the lights in the archive room begin to flicker, and Emily feels an intense chill run down her spine. She realizes she\\'s not alone and must make a decision quickly.\",\\n  \"choices\": [\\n    {\\n      \"choice\": 1,\\n      \"action\": \"Investigate the strange occurrences in the archive room further, trying to uncover the source of the disturbance.\"\\n    },\\n    {\\n      \"choice\": 2,\\n      \"action\": \"Leave the archive room immediately and head back to her office to gather her thoughts and plan her next move.\"\\n    },\\n    {\\n      \"choice\": 3,\\n      \"action\": \"Search the diary for more clues about the dark family secret and the powerful artifact, hoping to uncover a lead on the Count\\'s true intentions.\"\\n    },\\n    {\\n      \"choice\": 4,\\n      \"action\": \"Confront the Count directly, accusing him of being behind the strange occurrences and demanding to know what he\\'s searching for in the mansion.\"\\n    }\\n  ]\\n}'"
            ],
            "application/vnd.google.colaboratory.intrinsic+json": {
              "type": "string"
            }
          },
          "metadata": {},
          "execution_count": 58
        }
      ]
    },
    {
      "cell_type": "code",
      "source": [
        "parsed_data = json.loads(output)\n",
        "cleaned_json = json.dumps(parsed_data, indent=4)\n",
        "print(cleaned_json)"
      ],
      "metadata": {
        "colab": {
          "base_uri": "https://localhost:8080/"
        },
        "id": "m1VJt-UqtyHz",
        "outputId": "b5cbb79c-a781-41a7-afc2-7048434c9880"
      },
      "id": "m1VJt-UqtyHz",
      "execution_count": 59,
      "outputs": [
        {
          "output_type": "stream",
          "name": "stdout",
          "text": [
            "{\n",
            "    \"story_continuation\": \"As Emily delves deeper into the mystery, she begins to experience strange and unsettling occurrences. Doors slam shut on their own, and she starts to feel an eerie presence lurking in the shadows. One night, while researching in the town's archives, she stumbles upon an ancient diary belonging to her ancestor, the original owner of the mansion. The diary speaks of a dark family secret and a powerful artifact hidden within the mansion's walls. Suddenly, the lights in the archive room begin to flicker, and Emily feels an intense chill run down her spine. She realizes she's not alone and must make a decision quickly.\",\n",
            "    \"choices\": [\n",
            "        {\n",
            "            \"choice\": 1,\n",
            "            \"action\": \"Investigate the strange occurrences in the archive room further, trying to uncover the source of the disturbance.\"\n",
            "        },\n",
            "        {\n",
            "            \"choice\": 2,\n",
            "            \"action\": \"Leave the archive room immediately and head back to her office to gather her thoughts and plan her next move.\"\n",
            "        },\n",
            "        {\n",
            "            \"choice\": 3,\n",
            "            \"action\": \"Search the diary for more clues about the dark family secret and the powerful artifact, hoping to uncover a lead on the Count's true intentions.\"\n",
            "        },\n",
            "        {\n",
            "            \"choice\": 4,\n",
            "            \"action\": \"Confront the Count directly, accusing him of being behind the strange occurrences and demanding to know what he's searching for in the mansion.\"\n",
            "        }\n",
            "    ]\n",
            "}\n"
          ]
        }
      ]
    },
    {
      "cell_type": "code",
      "source": [
        "output = generate_continuation(example_context,\n",
        "                               previous_scenario=parsed_data.get(\"story_continuation\"),\n",
        "                               previous_choice=parsed_data.get(\"choices\")[0]['action'],\n",
        "                               choices_left=9)\n",
        "output"
      ],
      "metadata": {
        "colab": {
          "base_uri": "https://localhost:8080/",
          "height": 87
        },
        "id": "M7lHpUpKx7aK",
        "outputId": "3419740d-8220-4a0b-aac6-06060eb92e2b"
      },
      "id": "M7lHpUpKx7aK",
      "execution_count": 67,
      "outputs": [
        {
          "output_type": "execute_result",
          "data": {
            "text/plain": [
              "'{\\n  \"story_continuation\": \"As Emily investigates the strange occurrences in the archive room, she notices that the flickering lights seem to be emanating from a specific section of the shelves. She approaches the area cautiously, her heart racing with anticipation. Suddenly, a book falls off the shelf, opening to a page with a cryptic message scrawled in the margin. The message reads: \\'Beware the eyes that watch from the shadows.\\' Emily feels a shiver run down her spine as she realizes that she is being watched. She looks around the room, but sees no one. The air is thick with tension, and she knows she must act quickly to uncover the truth.\",\\n  \"choices\": [\\n    {\\n      \"choice\": 1,\\n      \"action\": \"Search the archive room for any hidden cameras or surveillance devices.\"\\n    },\\n    {\\n      \"choice\": 2,\\n      \"action\": \"Try to decipher the cryptic message and its connection to the dark family secret.\"\\n    },\\n    {\\n      \"choice\": 3,\\n      \"action\": \"Leave the archive room and explore other parts of the mansion, searching for any clues or signs of the mysterious presence.\"\\n    },\\n    {\\n      \"choice\": 4,\\n      \"action\": \"Call for backup, reaching out to her allies to help her investigate the strange occurrences.\"\\n    }\\n  ]\\n}'"
            ],
            "application/vnd.google.colaboratory.intrinsic+json": {
              "type": "string"
            }
          },
          "metadata": {},
          "execution_count": 67
        }
      ]
    },
    {
      "cell_type": "code",
      "source": [
        "parsed_data = json.loads(output)\n",
        "cleaned_json = json.dumps(parsed_data, indent=4)\n",
        "print(cleaned_json)"
      ],
      "metadata": {
        "colab": {
          "base_uri": "https://localhost:8080/"
        },
        "id": "bGBEorGbvv_z",
        "outputId": "14e100b6-c698-4c2d-b598-dd78f41a30f0"
      },
      "id": "bGBEorGbvv_z",
      "execution_count": 68,
      "outputs": [
        {
          "output_type": "stream",
          "name": "stdout",
          "text": [
            "{\n",
            "    \"story_continuation\": \"As Emily investigates the strange occurrences in the archive room, she notices that the flickering lights seem to be emanating from a specific section of the shelves. She approaches the area cautiously, her heart racing with anticipation. Suddenly, a book falls off the shelf, opening to a page with a cryptic message scrawled in the margin. The message reads: 'Beware the eyes that watch from the shadows.' Emily feels a shiver run down her spine as she realizes that she is being watched. She looks around the room, but sees no one. The air is thick with tension, and she knows she must act quickly to uncover the truth.\",\n",
            "    \"choices\": [\n",
            "        {\n",
            "            \"choice\": 1,\n",
            "            \"action\": \"Search the archive room for any hidden cameras or surveillance devices.\"\n",
            "        },\n",
            "        {\n",
            "            \"choice\": 2,\n",
            "            \"action\": \"Try to decipher the cryptic message and its connection to the dark family secret.\"\n",
            "        },\n",
            "        {\n",
            "            \"choice\": 3,\n",
            "            \"action\": \"Leave the archive room and explore other parts of the mansion, searching for any clues or signs of the mysterious presence.\"\n",
            "        },\n",
            "        {\n",
            "            \"choice\": 4,\n",
            "            \"action\": \"Call for backup, reaching out to her allies to help her investigate the strange occurrences.\"\n",
            "        }\n",
            "    ]\n",
            "}\n"
          ]
        }
      ]
    },
    {
      "cell_type": "markdown",
      "source": [
        "## Recursive Script"
      ],
      "metadata": {
        "id": "DCEn3Hk16r_z"
      },
      "id": "DCEn3Hk16r_z"
    },
    {
      "cell_type": "code",
      "source": [
        "all_jsons = []\n",
        "GENERATION_THRESHOLD = 8\n",
        "\n",
        "def initialize_story(IP):\n",
        "    system_prompt = f\"\"\"\n",
        "    Your job is to adapt the story of {IP} and create a branching storyline that incorporates similar elements while introducing new twists and engaging paths for players.\n",
        "    Instructions:\n",
        "    - Use simple, clear language that is easy to understand and avoids being overly descriptive.\n",
        "    - Ensure each branching storyline offers meaningful player choices and consequences.\n",
        "    - Stay concise, limiting each storyline description to 3-5 sentences.\n",
        "    - All outputs should be in JSON format like so. Do not include anything else:\n",
        "    {{\n",
        "      \"plot_summary\": \"[Your initial plot summary here]\",\n",
        "      \"branching_storylines\": [\n",
        "        {{\n",
        "          \"path\": 1,\n",
        "          \"path_name\": \"Title of path\"\n",
        "          \"story_line\": \"[Summary of first storyline]\"\n",
        "        }},\n",
        "        {{\n",
        "          \"path\": 2,\n",
        "          \"path_name\": \"Title of path\"\n",
        "          \"story_line\": \"[Summary of second storyline]\"\n",
        "        }}\n",
        "        ...\n",
        "      ]\n",
        "    }}\n",
        "    \"\"\"\n",
        "\n",
        "    plot_prompt = f\"\"\"\n",
        "    Generate a creative, original adaptation of {IP}'s plot, introducing similar themes and elements while creating 4 new, engaging branching storylines for players.\n",
        "    All outputs should be in JSON format. Do not include anything else.\n",
        "\n",
        "    {IP} Plot Summary: {get_plot(IP)}\"\"\"\n",
        "\n",
        "    output = client.chat.completions.create(\n",
        "        model=\"meta-llama/Llama-3-70b-chat-hf\",\n",
        "        messages=[\n",
        "            {\"role\": \"system\", \"content\": system_prompt},\n",
        "            {\"role\": \"user\", \"content\": plot_prompt}\n",
        "        ],\n",
        "    )\n",
        "\n",
        "    return output.choices[0].message.content\n",
        "\n",
        "# potential recursive method:\n",
        "def populate_JSON(context, previous_scenario, previous_choice, num_choices=4, choices_left=10):\n",
        "    if choices_left <= GENERATION_THRESHOLD:\n",
        "      return\n",
        "\n",
        "    output = generate_continuation(context, previous_scenario, previous_choice, num_choices, choices_left)\n",
        "\n",
        "    # store generated continuation (can revise)\n",
        "    parsed_data = json.loads(output)\n",
        "    all_jsons.append(parsed_data)\n",
        "\n",
        "    current_scenario = parsed_data.get(\"story_continuation\")\n",
        "    for choice in parsed_data.get(\"choices\"):\n",
        "        current_choice = choice[\"action\"]\n",
        "        populate_JSON(context,\n",
        "                      previous_scenario=current_scenario,\n",
        "                      previous_choice=current_choice,\n",
        "                      num_choices=num_choices,\n",
        "                      choices_left=choices_left-1)\n",
        "\n",
        "def create_story(IP, num_choices=4, choices_left=10):\n",
        "    story = json.loads(initialize_story(IP))\n",
        "    initial_context = story.get(\"plot_summary\")\n",
        "    for branch in story.get(\"branching_storylines\"):\n",
        "        path_name = branch[\"path_name\"] # TODO: add to final JSON + Unity\n",
        "        story_line = branch[\"story_line\"]\n",
        "\n",
        "        # context for each branch is initial context + overall plot of specific branch\n",
        "        context = initial_context + \" \" + story_line\n",
        "        populate_JSON(context, previous_scenario=None, previous_choice=None, num_choices=num_choices, choices_left=choices_left)\n"
      ],
      "metadata": {
        "id": "cMrAqwwNy44B"
      },
      "id": "cMrAqwwNy44B",
      "execution_count": 97,
      "outputs": []
    },
    {
      "cell_type": "code",
      "source": [
        "create_story('Dracula')"
      ],
      "metadata": {
        "id": "OonCcRUA0356"
      },
      "id": "OonCcRUA0356",
      "execution_count": 99,
      "outputs": []
    },
    {
      "cell_type": "code",
      "source": [
        "story"
      ],
      "metadata": {
        "colab": {
          "base_uri": "https://localhost:8080/"
        },
        "id": "zawXx8OM6Nh1",
        "outputId": "7c83fe16-788a-4e46-d2a7-611917b3486f"
      },
      "id": "zawXx8OM6Nh1",
      "execution_count": 100,
      "outputs": [
        {
          "output_type": "execute_result",
          "data": {
            "text/plain": [
              "{'plot_summary': \"In the modern city of New Haven, a mysterious corporation called 'Eclipse' has taken over the city's infrastructure, and people are disappearing at an alarming rate. The main character, a brilliant journalist named Maya, receives a cryptic message from an anonymous source claiming to have information about Eclipse's true intentions. As Maya delves deeper into the mystery, she discovers that Eclipse is led by a charismatic and enigmatic figure known only as 'The Archon', who seems to have supernatural abilities.\",\n",
              " 'branching_storylines': [{'path': 1,\n",
              "   'path_name': \"The Whistleblower's Trail\",\n",
              "   'story_line': \"Maya follows the trail of clues left by the anonymous source, leading her to a hidden underground bunker where she finds evidence of Eclipse's sinister experiments. She must decide whether to go public with the information or continue investigating to uncover more secrets.\"},\n",
              "  {'path': 2,\n",
              "   'path_name': \"The Vampire's Prey\",\n",
              "   'story_line': 'Maya is attacked by a mysterious figure with supernatural strength and agility. As she recovers, she realizes that she has been bitten and is slowly becoming a vampire. She must choose between embracing her new nature or seeking help from a mysterious organization that claims to be able to cure her.'},\n",
              "  {'path': 3,\n",
              "   'path_name': 'The Corporate Conspiracy',\n",
              "   'story_line': \"Maya infiltrates Eclipse's headquarters, posing as a new employee. She discovers that the company is hiding a dark secret: they are using the city's residents as test subjects for their experiments. Maya must decide whether to gather evidence and expose the company or take a more drastic approach to stop them.\"},\n",
              "  {'path': 4,\n",
              "   'path_name': 'The Ancient Prophecy',\n",
              "   'story_line': 'Maya discovers an ancient text that speaks of an ancient evil that has been awakened in the city. She must choose between believing the prophecy and seeking out the help of a secret society that claims to have the knowledge to defeat the evil, or dismissing it as mere superstition and continuing her investigation into Eclipse.'}]}"
            ]
          },
          "metadata": {},
          "execution_count": 100
        }
      ]
    },
    {
      "cell_type": "code",
      "source": [
        "all_jsons"
      ],
      "metadata": {
        "colab": {
          "base_uri": "https://localhost:8080/"
        },
        "id": "Z0N5AZrB5Etw",
        "outputId": "2bb54da7-f7b1-4021-fbca-e1b8799391b1"
      },
      "id": "Z0N5AZrB5Etw",
      "execution_count": 101,
      "outputs": [
        {
          "output_type": "execute_result",
          "data": {
            "text/plain": [
              "[{'story_continuation': \"Maya's heart raced as she explored the hidden bunker, uncovering disturbing evidence of Eclipse's experiments. She found records of human subjects being subjected to strange procedures, and cryptic notes referencing 'The Ascension Project'. Suddenly, she heard footsteps echoing through the corridors, and realized she wasn't alone. Maya knew she had to act fast, or risk being caught by Eclipse's agents.\",\n",
              "  'choices': [{'choice': 1,\n",
              "    'action': 'Maya quickly gathers as much evidence as she can and makes a run for the exit, hoping to escape undetected.'},\n",
              "   {'choice': 2,\n",
              "    'action': 'Maya decides to investigate the source of the footsteps, trying to gather more information about who or what is coming for her.'},\n",
              "   {'choice': 3,\n",
              "    'action': 'Maya searches the bunker for a way to destroy the evidence, hoping to prevent Eclipse from continuing their sinister experiments.'},\n",
              "   {'choice': 4,\n",
              "    'action': 'Maya tries to find a way to contact the anonymous source, hoping they can provide more guidance and support in her investigation.'}]},\n",
              " {'story_continuation': \"Maya sprinted through the corridors, her heart pounding in her chest. She clutched the evidence she had gathered, praying it would be enough to expose Eclipse's sinister activities. As she approached the exit, she heard the footsteps getting closer, and she knew she had to move fast. She burst through the door, finding herself in a dimly lit alleyway. The cool night air hit her like a slap in the face, and she took a deep breath, trying to calm down. But she knew she couldn't stay there for long - Eclipse's agents would be hot on her tail.\",\n",
              "  'choices': [{'choice': 1,\n",
              "    'action': 'Maya quickly pulls out her phone and dials the number of her trusted source, hoping to get guidance on what to do next.'},\n",
              "   {'choice': 2,\n",
              "    'action': 'Maya looks around the alleyway, trying to get her bearings and figure out where she is in relation to her safe house.'},\n",
              "   {'choice': 3,\n",
              "    'action': 'Maya takes a deep breath and starts to run, trying to put as much distance between herself and the bunker as possible.'},\n",
              "   {'choice': 4,\n",
              "    'action': 'Maya stops for a moment, looking back at the bunker entrance, wondering if she should try to go back and gather more evidence.'}]},\n",
              " {'story_continuation': 'Maya crept through the dimly lit corridors, her heart pounding in her chest. She managed to stay ahead of the footsteps, but they were getting closer. She turned a corner and caught a glimpse of a figure in a black jumpsuit, their face obscured by a helmet. Maya recognized the Eclipse insignia on their shoulder. She knew she had to be careful, as they were likely heavily armed and trained. The agent stopped at a door, fiddling with a keycard. Maya realized they were trying to access a restricted area.',\n",
              "  'choices': [{'choice': 1,\n",
              "    'action': 'Maya decides to ambush the agent, hoping to take them down quickly and quietly.'},\n",
              "   {'choice': 2,\n",
              "    'action': 'Maya tries to sneak past the agent, hoping to go unnoticed and gain access to the restricted area herself.'},\n",
              "   {'choice': 3,\n",
              "    'action': \"Maya attempts to reason with the agent, trying to find out what they're looking for and if they can be turned against Eclipse.\"},\n",
              "   {'choice': 4,\n",
              "    'action': \"Maya retreats, deciding it's not worth the risk and looking for a different way to uncover the secrets of the bunker.\"}]},\n",
              " {'story_continuation': 'Maya frantically searches the bunker for a way to destroy the evidence, her heart racing with every creak of the old machinery. She finds a room filled with computer servers and mainframes, and quickly gets to work hacking into the system to delete the files. But as she works, she realizes that the servers are connected to the entire Eclipse network, and deleting the files could trigger a catastrophic system failure. Suddenly, the lights in the room begin to flicker, and Maya hears the sound of footsteps getting closer.',\n",
              "  'choices': [{'choice': 1,\n",
              "    'action': \"Maya decides to delete the files, hoping to cripple Eclipse's operations and buy herself some time to escape.\"},\n",
              "   {'choice': 2,\n",
              "    'action': \"Maya tries to access the mainframe's security systems, hoping to find a way to lock down the bunker and trap the agents inside.\"},\n",
              "   {'choice': 3,\n",
              "    'action': \"Maya quickly searches the room for any physical evidence she can take with her, hoping to use it to expose Eclipse's secrets to the world.\"},\n",
              "   {'choice': 4,\n",
              "    'action': 'Maya prepares to defend herself, knowing that the agents will stop at nothing to silence her and protect their secrets.'}]},\n",
              " {'story_continuation': \"Maya quickly searches the bunker for any means of communication, her heart still racing from the sudden presence of Eclipse's agents. She finds a secure phone line and dials the number provided by the anonymous source, hoping they'll answer quickly. As she waits, she hears the footsteps getting closer, and she knows she's running out of time. The phone rings several times before a low, gravelly voice answers, 'What have you found, Maya?'\",\n",
              "  'choices': [{'choice': 1,\n",
              "    'action': 'Maya quickly briefs the source on her findings, asking for guidance on what to do next.'},\n",
              "   {'choice': 2,\n",
              "    'action': \"Maya demands to know the source's identity and their connection to Eclipse before sharing any information.\"},\n",
              "   {'choice': 3,\n",
              "    'action': 'Maya asks the source if they can provide her with a safe exit from the bunker, fearing for her life.'},\n",
              "   {'choice': 4,\n",
              "    'action': 'Maya decides to keep her findings to herself, suspecting the source might be working with Eclipse.'}]},\n",
              " {'story_continuation': \"Maya's world is turned upside down as she struggles to comprehend the supernatural forces at play. The attack has left her with unexplained wounds that seem to be healing at an alarming rate, and she's experiencing an insatiable thirst for blood. As she tries to make sense of her new condition, she receives a message from the mysterious organization, known as 'The Order of the Dawn', claiming they can help her understand and control her newfound abilities. However, Maya is unsure if she can trust them, and wonders if they might have ulterior motives. She begins to feel like she's running out of time, as the symptoms worsen and her sense of humanity starts to slip away.\",\n",
              "  'choices': [{'choice': 1,\n",
              "    'action': 'Meet with a representative from The Order of the Dawn, hoping to find answers and a possible cure.'},\n",
              "   {'choice': 2,\n",
              "    'action': 'Try to find a way to cure herself on her own, scouring the city for clues and information about Eclipse and The Archon.'},\n",
              "   {'choice': 3,\n",
              "    'action': \"Confront The Archon directly, determined to uncover the truth behind Eclipse's sinister plans and her own transformation.\"},\n",
              "   {'choice': 4,\n",
              "    'action': 'Reach out to her journalist contacts, hoping to gather more information about Eclipse and The Archon, and potentially expose their secrets to the world.'}]},\n",
              " {'story_continuation': \"Maya arrives at the designated meeting spot, a dimly lit coffee shop on the outskirts of New Haven. A figure in a long coat, their face obscured by shadows, greets her with an air of confidence. They introduce themselves as Agent Rachel, a representative of The Order of the Dawn. Rachel explains that they've been tracking Maya's situation and believe they can help her understand and control her newfound abilities. However, Maya senses a hint of unease beneath Rachel's polished demeanor, and wonders if she's hiding something.\",\n",
              "  'choices': [{'choice': 1,\n",
              "    'action': 'Press Rachel for more information about The Order of the Dawn and their true intentions.'},\n",
              "   {'choice': 2,\n",
              "    'action': \"Ask Rachel about the possibility of a cure, and if they've had success with similar cases in the past.\"},\n",
              "   {'choice': 3,\n",
              "    'action': \"Confront Rachel about the unease Maya senses, and demand to know what she's hiding.\"},\n",
              "   {'choice': 4,\n",
              "    'action': 'Agree to work with Rachel, hoping that The Order of the Dawn can provide the answers and help Maya needs.'}]},\n",
              " {'story_continuation': \"Maya's search for a cure leads her to a hidden underground library, where she discovers ancient texts and cryptic manuscripts that hint at the existence of a powerful artifact capable of reversing her condition. However, as she delves deeper into the texts, she realizes that the artifact is hidden in a heavily guarded Eclipse facility, and that she'll need to find a way to infiltrate it without being detected. Meanwhile, her thirst for blood grows stronger, and she begins to experience vivid hallucinations, making it harder for her to focus on her mission.\",\n",
              "  'choices': [{'choice': 1,\n",
              "    'action': 'Break into the Eclipse facility at night, using her journalistic skills to gather intel and sneak past security.'},\n",
              "   {'choice': 2,\n",
              "    'action': 'Try to gather more information about the artifact and its location, hoping to find a way to retrieve it without risking a direct confrontation with Eclipse.'},\n",
              "   {'choice': 3,\n",
              "    'action': 'Seek out a local expert in the occult, hoping to find someone who can help her understand the ancient texts and provide guidance on how to retrieve the artifact.'},\n",
              "   {'choice': 4,\n",
              "    'action': 'Give in to her thirst for blood, hoping that feeding will clear her mind and give her the strength she needs to tackle the mission ahead.'}]},\n",
              " {'story_continuation': \"Maya stands outside the towering skyscraper that serves as Eclipse's headquarters, her heart racing with anticipation and fear. She's determined to confront The Archon and uncover the truth behind her transformation, but she's not sure what she'll face once she's inside. As she approaches the entrance, the doors slide open with an eerie silence, inviting her into the heart of the corporation. Maya takes a deep breath and steps inside, her senses on high alert. The interior is sleek and modern, with rows of humming servers and sterile white corridors that seem to stretch on forever. She can feel The Archon's presence, drawing her deeper into the complex.\",\n",
              "  'choices': [{'choice': 1,\n",
              "    'action': \"Maya decides to explore the complex, searching for clues and information about Eclipse's true intentions.\"},\n",
              "   {'choice': 2,\n",
              "    'action': \"She makes her way to the central elevator, determined to reach The Archon's office and confront them directly.\"},\n",
              "   {'choice': 3,\n",
              "    'action': \"Maya's thirst for blood grows stronger, and she begins to scan the area for potential prey, wondering if she can still control her newfound hunger.\"},\n",
              "   {'choice': 4,\n",
              "    'action': \"She tries to hack into the corporation's mainframe, hoping to uncover secrets and evidence that will help her take down Eclipse from the inside.\"}]},\n",
              " {'story_continuation': \"Maya's journalist contacts come through, providing her with a wealth of information about Eclipse and The Archon. She learns that Eclipse has been secretly experimenting on humans, attempting to harness their life force to fuel their own supernatural abilities. The Archon, it seems, is the key to unlocking this power. Maya's contacts also warn her that Eclipse has eyes and ears everywhere, and that she needs to be careful not to attract unwanted attention. As she digs deeper, Maya begins to feel the weight of her newfound condition, her thirst for blood growing stronger by the hour. She knows she needs to find a solution, and fast, before she loses herself completely.\",\n",
              "  'choices': [{'choice': 1,\n",
              "    'action': 'Confront Eclipse directly, using her newfound abilities to gather evidence and take down The Archon.'},\n",
              "   {'choice': 2,\n",
              "    'action': 'Reach out to The Order of the Dawn, hoping to learn more about their motives and whether they can truly help her.'},\n",
              "   {'choice': 3,\n",
              "    'action': 'Try to find a way to reverse her condition, scouring the city for any clues or experts who might be able to help her.'},\n",
              "   {'choice': 4,\n",
              "    'action': \"Use her journalist skills to expose Eclipse's secrets to the world, hoping to bring them down through public pressure.\"}]},\n",
              " {'story_continuation': \"Maya has just started her new job at Eclipse's headquarters, trying to blend in with the other employees. She's been assigned to the marketing department, where she's been tasked with creating promotional materials for Eclipse's latest project, codenamed 'Elysium'. As she works, she can't help but notice the eerie atmosphere in the office, with employees whispering to each other in hushed tones and avoiding eye contact. Maya's supervisor, a stern-looking woman named Ms. Jenkins, seems particularly interested in Maya's work, often stopping by her desk to 'offer guidance'. Maya begins to suspect that Ms. Jenkins might be more than just a supervisor, but a watchdog tasked with keeping an eye on her.\",\n",
              "  'choices': [{'choice': 1,\n",
              "    'action': 'Maya decides to play it safe and focus on her work, trying to gather more information about Elysium without arousing suspicion.'},\n",
              "   {'choice': 2,\n",
              "    'action': 'Maya tries to strike up a conversation with Ms. Jenkins, hoping to get a better read on her and potentially gain her trust.'},\n",
              "   {'choice': 3,\n",
              "    'action': \"Maya starts snooping around the office, looking for any clues or documents that might reveal more about Eclipse's true intentions.\"},\n",
              "   {'choice': 4,\n",
              "    'action': \"Maya decides to take a risk and try to hack into the company's database, hoping to uncover more information about Elysium and The Archon's plans.\"}]},\n",
              " {'story_continuation': \"As Maya continues to work on the promotional materials for Elysium, she starts to notice that her designs are being heavily scrutinized by Ms. Jenkins. Every minor detail is being picked apart, and Maya begins to feel like she's being micromanaged. She tries to brush it off as mere paranoia, but the constant supervision is starting to take a toll on her nerves. One day, while working late, Maya receives an encrypted message on her company-issued phone. The message reads: 'Meet me in the break room at 5 PM. Come alone.' The message is unsigned, but Maya has a feeling that it might be from someone who can help her uncover the truth about Eclipse.\",\n",
              "  'choices': [{'choice': 1,\n",
              "    'action': 'Maya decides to ignore the message and continue working on her project, hoping to avoid any unnecessary attention.'},\n",
              "   {'choice': 2,\n",
              "    'action': 'Maya decides to investigate the break room at 5 PM, but she brings a small recorder with her to gather evidence of any potential meeting.'},\n",
              "   {'choice': 3,\n",
              "    'action': 'Maya decides to report the message to Ms. Jenkins, hoping to gain her trust and potentially uncover more information about the mysterious message.'},\n",
              "   {'choice': 4,\n",
              "    'action': 'Maya decides to sneak out of the office early and do some reconnaissance on the break room, trying to gather more information about the mysterious meeting before it happens.'}]},\n",
              " {'story_continuation': \"Maya attempts to make small talk with Ms. Jenkins, asking her about her weekend and trying to find common ground. Ms. Jenkins seems hesitant at first, but eventually warms up to Maya's friendly demeanor. As they chat, Maya learns that Ms. Jenkins has been with Eclipse for over a decade and has seen the company grow from a small startup to a global powerhouse. Maya senses that Ms. Jenkins is hiding something, but can't quite put her finger on it. As their conversation comes to a close, Ms. Jenkins mentions that she'll be attending a high-level meeting later that day and invites Maya to join her.\",\n",
              "  'choices': [{'choice': 1,\n",
              "    'action': \"Maya accepts the invitation, hoping to gain insight into Eclipse's inner workings.\"},\n",
              "   {'choice': 2,\n",
              "    'action': 'Maya declines the invitation, feeling that it might be too risky to attend a high-level meeting so early in her tenure.'},\n",
              "   {'choice': 3,\n",
              "    'action': 'Maya asks Ms. Jenkins more questions about the meeting, trying to gauge its importance and potential risks.'},\n",
              "   {'choice': 4,\n",
              "    'action': \"Maya excuses herself, feeling uneasy about Ms. Jenkins' sudden interest in her and deciding to focus on her work instead.\"}]},\n",
              " {'story_continuation': \"Maya's snooping around the office yields some interesting results. She discovers a hidden folder on the company's intranet, labeled 'Elysium - Confidential'. The folder contains cryptic documents and blueprints, hinting at a massive-scale project that seems to be connected to the disappearances in New Haven. As she delves deeper into the documents, Maya realizes that she's not alone. Ms. Jenkins is standing behind her, her eyes fixed on the screen. 'Just making sure you're on the right track, Maya,' she says, her tone dripping with sarcasm.\",\n",
              "  'choices': [{'choice': 1,\n",
              "    'action': 'Maya tries to play it cool, pretending she was just looking for marketing materials, and asks Ms. Jenkins for guidance on the project.'},\n",
              "   {'choice': 2,\n",
              "    'action': \"Maya confronts Ms. Jenkins, accusing her of spying on her and demanding to know what's really going on with the Elysium project.\"},\n",
              "   {'choice': 3,\n",
              "    'action': \"Maya quickly saves the documents to a USB drive and tries to sneak out of the office, hoping to escape Ms. Jenkins' scrutiny.\"},\n",
              "   {'choice': 4,\n",
              "    'action': \"Maya attempts to distract Ms. Jenkins by asking her about the company's policies on employee safety, trying to gauge her reaction.\"}]},\n",
              " {'story_continuation': \"Maya's fingers flew across the keyboard as she worked her way through the company's firewall. She had managed to gain access to the database, but she knew she had to be quick before the system administrators detected her intrusion. As she scrolled through the files, she stumbled upon a confidential document labeled 'Elysium Protocol'. Her heart racing, she began to read the contents, learning that Elysium was not just a project, but a full-scale operation to harness the city's energy grid to power a mysterious device. Suddenly, her computer screen flickered, and a message appeared: 'Access denied. Security breach detected.' Maya knew she had to act fast before she was caught.\",\n",
              "  'choices': [{'choice': 1,\n",
              "    'action': 'Maya quickly deletes her digital trail and pretends to be working on her assigned task, hoping to avoid suspicion.'},\n",
              "   {'choice': 2,\n",
              "    'action': 'Maya decides to investigate further, trying to find out who or what is behind the security breach detection.'},\n",
              "   {'choice': 3,\n",
              "    'action': \"Maya prints out the confidential document and hides it in her desk, planning to review it later when she's alone.\"},\n",
              "   {'choice': 4,\n",
              "    'action': \"Maya panics and tries to flee the office, fearing she's been caught and will be confronted by Ms. Jenkins or worse.\"}]},\n",
              " {'story_continuation': \"Maya sat at her desk, staring at the ancient text in front of her. The words danced on the page, speaking of an ancient evil that had been awakened in New Haven. She couldn't shake the feeling that there was truth to the prophecy, but a part of her still doubted its validity. As she pondered her next move, her phone buzzed with a message from an unknown number. 'Meet me at the old clock tower at midnight. Come alone.' The message was unsigned, but Maya had a feeling it was from the same anonymous source who had started her on this journey. She looked around her cluttered apartment, feeling a sense of unease. What did this mysterious person want to reveal to her, and was she ready to hear it?\",\n",
              "  'choices': [{'choice': 1,\n",
              "    'action': 'Head to the clock tower at midnight, alone and prepared for anything'},\n",
              "   {'choice': 2,\n",
              "    'action': 'Bring a friend or two along, just in case things get hairy'},\n",
              "   {'choice': 3,\n",
              "    'action': \" Ignore the message and continue investigating Eclipse's activities\"},\n",
              "   {'choice': 4,\n",
              "    'action': 'Reach out to the rogue scholars, hoping they can shed some light on the ancient text and its prophecy'}]},\n",
              " {'story_continuation': \"Maya arrived at the old clock tower, her heart racing with anticipation. The wind howled through the empty streets, and the clock's ticking seemed to echo her own pulse. As she approached the entrance, a figure emerged from the shadows. It was a woman with piercing green eyes, dressed in a long coat that billowed behind her like a dark cloud. 'You're the one who's been sending me messages,' Maya stated, trying to keep her voice steady. The woman nodded, her eyes glinting with an otherworldly intensity. 'I've been watching you, Maya. I know you're searching for the truth about Eclipse. But are you prepared to face what lies beneath?'\",\n",
              "  'choices': [{'choice': 1,\n",
              "    'action': 'Demand to know who the woman is and what she wants from Maya'},\n",
              "   {'choice': 2,\n",
              "    'action': \"Ask the woman what she means by 'what lies beneath' and what she knows about Eclipse\"},\n",
              "   {'choice': 3,\n",
              "    'action': \"Try to leave, feeling uneasy and unsure about the woman's intentions\"},\n",
              "   {'choice': 4,\n",
              "    'action': 'Attack the woman, sensing a potential threat to her investigation'}]},\n",
              " {'story_continuation': \"Maya arrived at the old clock tower at midnight, her friends Alex and Jake flanking her. The dimly lit streets were eerily quiet, and the only sound was the creaking of the old clock's mechanisms. As they approached the tower, a figure emerged from the shadows. It was a woman with piercing green eyes, her features obscured by a hoodie. 'You didn't follow instructions,' she said, her voice low and menacing. 'I told you to come alone.' Maya stood her ground, her friends ready to defend her if necessary. The woman's gaze flickered between them, before she nodded curtly. 'Very well. I'll show you what I have to show you. But be warned, once you see this, there's no going back.'\",\n",
              "  'choices': [{'choice': 1,\n",
              "    'action': \"Ask the woman what she means by 'there's no going back'\"},\n",
              "   {'choice': 2,\n",
              "    'action': \"Tell the woman you're not interested in her games and try to leave\"},\n",
              "   {'choice': 3,\n",
              "    'action': 'Ask the woman who she is and what her connection is to Eclipse'},\n",
              "   {'choice': 4,\n",
              "    'action': 'Tell Alex and Jake to be ready to defend themselves, preparing for a potential fight'}]},\n",
              " {'story_continuation': \"Maya decided to ignore the mysterious message and focus on uncovering more information about Eclipse's activities. She spent the rest of the day digging through documents and conducting interviews, but every lead seemed to end in a dead end. As the sun began to set, Maya received a call from an anonymous source claiming to have information about a secret Eclipse facility on the outskirts of the city. The source refused to give any more details, but Maya's instincts told her that this could be the break she needed. She grabbed her camera and notebook, and set out to investigate the facility.\",\n",
              "  'choices': [{'choice': 1,\n",
              "    'action': 'Head to the facility immediately, trying to gather as much evidence as possible'},\n",
              "   {'choice': 2,\n",
              "    'action': 'Try to gather more information about the facility and its purpose before heading out'},\n",
              "   {'choice': 3,\n",
              "    'action': 'Contact the rogue scholars, wondering if they might have any knowledge about the facility'},\n",
              "   {'choice': 4,\n",
              "    'action': 'Return to her apartment, feeling uneasy and unsure about what to do next'}]},\n",
              " {'story_continuation': \"Maya quickly typed out a message to the rogue scholars, hoping they could provide some insight into the ancient text. She received a response almost immediately, agreeing to meet with her at their secret hideout on the outskirts of the city. As she made her way to the meeting, Maya couldn't shake the feeling that she was being watched. The scholars greeted her warmly, but their leader, a bespectacled man named Dr. Lee, seemed nervous and on edge. 'We've been expecting you, Maya,' he said, his voice low and urgent. 'We've uncovered some disturbing information about the prophecy. It seems that The Archon is not only aware of the ancient evil, but is actively seeking to harness its power.'\",\n",
              "  'choices': [{'choice': 1,\n",
              "    'action': \"Ask Dr. Lee to explain what he means by 'harness its power'\"},\n",
              "   {'choice': 2,\n",
              "    'action': 'Press Dr. Lee for more information about the ancient evil and its connection to New Haven'},\n",
              "   {'choice': 3,\n",
              "    'action': 'Confront Dr. Lee about the mysterious message and the clock tower meeting'},\n",
              "   {'choice': 4,\n",
              "    'action': \"Request the scholars' help in infiltrating Eclipse's headquarters to gather more evidence\"}]}]"
            ]
          },
          "metadata": {},
          "execution_count": 101
        }
      ]
    },
    {
      "cell_type": "code",
      "source": [],
      "metadata": {
        "id": "RnW556576BIp"
      },
      "id": "RnW556576BIp",
      "execution_count": null,
      "outputs": []
    }
  ],
  "metadata": {
    "kernelspec": {
      "display_name": "Python 3 (ipykernel)",
      "language": "python",
      "name": "python3"
    },
    "language_info": {
      "codemirror_mode": {
        "name": "ipython",
        "version": 3
      },
      "file_extension": ".py",
      "mimetype": "text/x-python",
      "name": "python",
      "nbconvert_exporter": "python",
      "pygments_lexer": "ipython3",
      "version": "3.11.9"
    },
    "colab": {
      "provenance": []
    }
  },
  "nbformat": 4,
  "nbformat_minor": 5
}